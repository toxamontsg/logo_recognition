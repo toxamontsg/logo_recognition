{
 "cells": [
  {
   "cell_type": "code",
   "execution_count": 3,
   "id": "252e87d9-02fd-4071-95e1-71abae1e9abc",
   "metadata": {},
   "outputs": [],
   "source": [
    "import sys\n",
    "import os\n",
    "\n",
    "# Добавьте путь к вашему проекту в sys.path\n",
    "sys.path.append('..')\n",
    "\n",
    "from src.data_processing import DataSplit\n",
    "from src.model import DataSplit"
   ]
  },
  {
   "cell_type": "code",
   "execution_count": null,
   "id": "a20ee66a-3d2d-43be-9146-8caca76f620b",
   "metadata": {},
   "outputs": [],
   "source": [
    "!wget -P ../data/raw 123.57.42.89/Dataset_ict/LogoDet-3K.zip"
   ]
  },
  {
   "cell_type": "code",
   "execution_count": null,
   "id": "ecb25b5d-84bb-49d2-b7ef-fe77aa7cf09d",
   "metadata": {},
   "outputs": [],
   "source": [
    "!unzip ../data/raw/LogoDet-3K.zip -d ../data/raw"
   ]
  },
  {
   "cell_type": "code",
   "execution_count": null,
   "id": "3e7cbaa5-783b-4631-9e8f-b261b76082c5",
   "metadata": {},
   "outputs": [],
   "source": [
    "!wget -P ../models https://github.com/toxamontsg/yolo_models/raw/refs/heads/main/yolo5s_logo.pt"
   ]
  },
  {
   "cell_type": "code",
   "execution_count": null,
   "id": "153ffd37-7ddb-4a7a-b4db-c1bea3e42db2",
   "metadata": {},
   "outputs": [],
   "source": [
    "data_split = DataSplit(dataset_type='LogoDet-3K')\n",
    "data_split.load_data(\n",
    "    input_path='../data/raw/LogoDet-3K',\n",
    "    output_path='../data/processed'\n",
    ")"
   ]
  },
  {
   "cell_type": "code",
   "execution_count": null,
   "id": "3784d5f6-f846-4d4f-8dff-b7636e3c5515",
   "metadata": {},
   "outputs": [],
   "source": [
    "dataset = FewShotLogoDataset(\n",
    "    images_dir=\"../data/processed/images/val\",\n",
    "    annotations_dir=\"../data/processed/annotations/val\",\n",
    "    support_samples=5\n",
    ")"
   ]
  },
  {
   "cell_type": "code",
   "execution_count": null,
   "id": "5f0227e2-5c21-4e56-a262-5c862cddd8a5",
   "metadata": {},
   "outputs": [],
   "source": [
    "support_set = dataset.get_support_set()\n",
    "query_set = dataset.get_query_set()\n",
    "\n",
    "brand_examples = {}\n",
    "for img_path, brand in support_set:\n",
    "    if brand not in brand_examples:\n",
    "        brand_examples[brand] = []\n",
    "    brand_examples[brand].append(img_path)"
   ]
  },
  {
   "cell_type": "code",
   "execution_count": null,
   "id": "3e04b87a-bab9-47d6-a31b-9426355f4b83",
   "metadata": {},
   "outputs": [],
   "source": [
    "recognizer = FewShotLogoRecognizer(\n",
    "    brand_examples=brand_examples,\n",
    "    model_name=\"ViT-B/32\",\n",
    "    detector_path=\"models/yolo5s_logo.pt\"\n",
    ")"
   ]
  }
 ],
 "metadata": {
  "kernelspec": {
   "display_name": "Python 3 (ipykernel)",
   "language": "python",
   "name": "python3"
  },
  "language_info": {
   "codemirror_mode": {
    "name": "ipython",
    "version": 3
   },
   "file_extension": ".py",
   "mimetype": "text/x-python",
   "name": "python",
   "nbconvert_exporter": "python",
   "pygments_lexer": "ipython3",
   "version": "3.11.8"
  }
 },
 "nbformat": 4,
 "nbformat_minor": 5
}
