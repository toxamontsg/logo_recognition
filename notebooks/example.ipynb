{
 "cells": [
  {
   "cell_type": "code",
   "execution_count": 14,
   "id": "a20ee66a-3d2d-43be-9146-8caca76f620b",
   "metadata": {},
   "outputs": [
    {
     "name": "stdout",
     "output_type": "stream",
     "text": [
      "--2025-02-04 06:26:41--  http://123.57.42.89/Dataset_ict/LogoDet-3K.zip\n",
      "Connecting to 123.57.42.89:80... connected.\n",
      "HTTP request sent, awaiting response... 200 OK\n",
      "Length: 3079016292 (2.9G) [application/zip]\n",
      "Saving to: ‘../data/raw/LogoDet-3K.zip’\n",
      "\n",
      "LogoDet-3K.zip        0%[                    ]  21.24M   645KB/s    eta 92m 38s^C\n"
     ]
    }
   ],
   "source": [
    "!wget -P ../data/raw 123.57.42.89/Dataset_ict/LogoDet-3K.zip"
   ]
  },
  {
   "cell_type": "code",
   "execution_count": null,
   "id": "ad398f4e-3cbe-43c0-9942-bcd43d5e3b67",
   "metadata": {},
   "outputs": [],
   "source": [
    "!unzip -qq ../data/raw/LogoDet-3K.zip -d ../data/raw"
   ]
  },
  {
   "cell_type": "code",
   "execution_count": null,
   "id": "3e7cbaa5-783b-4631-9e8f-b261b76082c5",
   "metadata": {},
   "outputs": [],
   "source": [
    "!wget -P ../models https://github.com/toxamontsg/yolo_models/raw/refs/heads/main/yolo5s_logo.pt"
   ]
  },
  {
   "cell_type": "code",
   "execution_count": 1,
   "id": "252e87d9-02fd-4071-95e1-71abae1e9abc",
   "metadata": {},
   "outputs": [],
   "source": [
    "import sys\n",
    "import os\n",
    "import random\n",
    "\n",
    "# Добавьте путь к вашему проекту в sys.path\n",
    "sys.path.append('..')\n",
    "\n",
    "from src.data_processing import DataSplit\n",
    "from src.model import FewShotLogoRecognizer\n",
    "from src.dataset import FewShotLogoDataset\n",
    "from src.utils import augment_image\n",
    "\n",
    "random.seed(42)"
   ]
  },
  {
   "cell_type": "code",
   "execution_count": 17,
   "id": "153ffd37-7ddb-4a7a-b4db-c1bea3e42db2",
   "metadata": {},
   "outputs": [],
   "source": [
    "data_split = DataSplit(dataset_type='LogoDet-3K')\n",
    "data_split.load_data(\n",
    "    input_path='../data/raw/LogoDet-3K',\n",
    "    output_path='../data/processed'\n",
    ")"
   ]
  },
  {
   "cell_type": "code",
   "execution_count": 2,
   "id": "3784d5f6-f846-4d4f-8dff-b7636e3c5515",
   "metadata": {},
   "outputs": [],
   "source": [
    "dataset = FewShotLogoDataset(\n",
    "    images_dir=\"../data/processed/images/val\",\n",
    "    annotations_dir=\"../data/processed/annotations/val\",\n",
    "    support_samples=5\n",
    ")"
   ]
  },
  {
   "cell_type": "code",
   "execution_count": 3,
   "id": "5f0227e2-5c21-4e56-a262-5c862cddd8a5",
   "metadata": {},
   "outputs": [],
   "source": [
    "support_set = dataset.get_support_set()\n",
    "query_set = dataset.get_query_set()\n",
    "\n",
    "brand_examples = {}\n",
    "for img_path, brand in support_set:\n",
    "    if brand not in brand_examples:\n",
    "        brand_examples[brand] = []\n",
    "    brand_examples[brand].append(img_path)"
   ]
  },
  {
   "cell_type": "markdown",
   "id": "fd544b81-9845-4e1e-9e19-f3014ae6a83f",
   "metadata": {},
   "source": [
    "Если убрать detector_path то модель изпользует данные из датасета для детекции bbox"
   ]
  },
  {
   "cell_type": "code",
   "execution_count": 4,
   "id": "3e04b87a-bab9-47d6-a31b-9426355f4b83",
   "metadata": {
    "scrolled": true
   },
   "outputs": [
    {
     "name": "stderr",
     "output_type": "stream",
     "text": [
      "Load brands: 100%|██████████| 2717/2717 [05:27<00:00,  8.31it/s]\n"
     ]
    }
   ],
   "source": [
    "recognizer = FewShotLogoRecognizer(\n",
    "    brand_examples=brand_examples,\n",
    "    model_name=\"ViT-B/32\",\n",
    "    detector_path=\"../models/yolo5s_logo.pt\"\n",
    "    \n",
    ")"
   ]
  },
  {
   "cell_type": "code",
   "execution_count": 5,
   "id": "bcd58366-36c3-4484-8071-76e0bf196e90",
   "metadata": {},
   "outputs": [],
   "source": [
    "def get_rand_example(dataset, include_antiexample=False):\n",
    "    brands = list(dataset.brand_groups.keys())\n",
    "    random_brand = random.choice(brands)\n",
    "    imgs = dataset.brand_groups[random_brand]\n",
    "    random_img = random.choice(imgs)\n",
    "\n",
    "    if include_antiexample:\n",
    "        # Выбираем другой бренд, отличный от random_brand\n",
    "        other_brands = [brand for brand in brands if brand != random_brand]\n",
    "        random_other_brand = random.choice(other_brands)\n",
    "        other_imgs = dataset.brand_groups[random_other_brand]\n",
    "        random_other_img = random.choice(other_imgs)\n",
    "\n",
    "        return random_brand, random_other_img\n",
    "    else:\n",
    "        return random_brand, random_img"
   ]
  },
  {
   "cell_type": "markdown",
   "id": "9cd7fa49-f8ed-4668-b7d2-a12b17892b3b",
   "metadata": {},
   "source": [
    "Коэффициент (coefficient):\n",
    "\n",
    "В случае сигмоидной функции коэффициент (например, -10) определяет чувствительность функции. Большие значения делают функцию более чувствительной к изменениям расстояния.\n",
    "Эмпирически подберите коэффициент, чтобы вероятность корректно отражала сходство.\n",
    "Порог (threshold):\n",
    "\n",
    "Порог (например, 0.6) сдвигает сигмоидную функцию. Это позволяет вам настроить, при каком значении расстояния вероятность будет равна 0.5.\n",
    "Эмпирически подберите порог, чтобы вероятность корректно отражала сходство."
   ]
  },
  {
   "cell_type": "code",
   "execution_count": 62,
   "id": "8fd8ed9d-da36-4395-bc7e-abfab76f172c",
   "metadata": {},
   "outputs": [],
   "source": [
    "threshold = 0.6\n",
    "coefficient = 10"
   ]
  },
  {
   "cell_type": "code",
   "execution_count": 85,
   "id": "b067eae4-a5f1-4747-822c-7c63f0dea880",
   "metadata": {},
   "outputs": [
    {
     "data": {
      "text/plain": [
       "[{'brand': 'fox river mills',\n",
       "  'confidence': 0.8643677084417293,\n",
       "  'bbox': (184, 157, 438, 219)},\n",
       " {'brand': 'fox river mills',\n",
       "  'confidence': 0.8484706618201715,\n",
       "  'bbox': (50, 130, 179, 232)}]"
      ]
     },
     "execution_count": 85,
     "metadata": {},
     "output_type": "execute_result"
    }
   ],
   "source": [
    "brand , img_path = get_rand_example(dataset)\n",
    "recognizer.detect_logos(img_path, brand, threshold=threshold, coefficient = coefficient )"
   ]
  },
  {
   "cell_type": "markdown",
   "id": "537d9b9e-88f4-42e6-8bd7-3d55c070b79d",
   "metadata": {},
   "source": [
    "Параметры: \n",
    "\n",
    "augmet=True симулирует размытость и наклон\n",
    "\n",
    "include_antiexample=False пример положительный\n",
    "include_antiexample=True пример отрицательный"
   ]
  },
  {
   "cell_type": "code",
   "execution_count": 95,
   "id": "d38a795b-d28d-4c1e-9b33-586ffd3453da",
   "metadata": {},
   "outputs": [
    {
     "data": {
      "text/plain": [
       "[{'brand': 'Ecco',\n",
       "  'confidence': 0.8963421435183988,\n",
       "  'bbox': (42, 110, 453, 206)}]"
      ]
     },
     "execution_count": 95,
     "metadata": {},
     "output_type": "execute_result"
    }
   ],
   "source": [
    "brand , img_path = get_rand_example(dataset)\n",
    "recognizer.detect_logos(img_path, brand, augmet=True, threshold=threshold, coefficient = coefficient )"
   ]
  },
  {
   "cell_type": "code",
   "execution_count": 96,
   "id": "0c711619-057b-4a94-924a-4a9da638ebcb",
   "metadata": {},
   "outputs": [
    {
     "data": {
      "text/plain": [
       "[{'brand': 'hutchinson tires',\n",
       "  'confidence': 0.7174080141650893,\n",
       "  'bbox': (81, 112, 266, 191)}]"
      ]
     },
     "execution_count": 96,
     "metadata": {},
     "output_type": "execute_result"
    }
   ],
   "source": [
    "brand , img_path = get_rand_example(dataset, include_antiexample=True)\n",
    "recognizer.detect_logos(img_path, brand, augmet=True, threshold=threshold, coefficient = coefficient )"
   ]
  },
  {
   "cell_type": "code",
   "execution_count": 101,
   "id": "c256bbeb-fc03-4702-a72a-472974beecc9",
   "metadata": {},
   "outputs": [
    {
     "data": {
      "text/plain": [
       "[{'brand': 'other',\n",
       "  'confidence': 0.3473157026794199,\n",
       "  'bbox': (130, 164, 345, 203)}]"
      ]
     },
     "execution_count": 101,
     "metadata": {},
     "output_type": "execute_result"
    }
   ],
   "source": [
    "brand , img_path = get_rand_example(dataset, include_antiexample=True)\n",
    "recognizer.detect_logos(img_path, brand, augmet=True, threshold=threshold, coefficient = coefficient )"
   ]
  },
  {
   "cell_type": "code",
   "execution_count": null,
   "id": "fec64845-e1e7-4c16-8bca-3ffaa5033c80",
   "metadata": {},
   "outputs": [],
   "source": []
  }
 ],
 "metadata": {
  "kernelspec": {
   "display_name": "Python 3 (ipykernel)",
   "language": "python",
   "name": "python3"
  },
  "language_info": {
   "codemirror_mode": {
    "name": "ipython",
    "version": 3
   },
   "file_extension": ".py",
   "mimetype": "text/x-python",
   "name": "python",
   "nbconvert_exporter": "python",
   "pygments_lexer": "ipython3",
   "version": "3.11.8"
  }
 },
 "nbformat": 4,
 "nbformat_minor": 5
}
